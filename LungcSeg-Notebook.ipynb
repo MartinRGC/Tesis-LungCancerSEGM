{
 "cells": [
  {
   "cell_type": "code",
   "execution_count": 2,
   "metadata": {},
   "outputs": [
    {
     "name": "stdout",
     "output_type": "stream",
     "text": [
      "Collecting pydicom\n",
      "  Using cached pydicom-3.0.1-py3-none-any.whl.metadata (9.4 kB)\n",
      "Collecting opencv-python\n",
      "  Using cached opencv_python-4.10.0.84-cp37-abi3-win_amd64.whl.metadata (20 kB)\n",
      "Collecting numpy>=1.21.2 (from opencv-python)\n",
      "  Using cached numpy-2.2.1-cp311-cp311-win_amd64.whl.metadata (60 kB)\n",
      "Using cached pydicom-3.0.1-py3-none-any.whl (2.4 MB)\n",
      "Using cached opencv_python-4.10.0.84-cp37-abi3-win_amd64.whl (38.8 MB)\n",
      "Using cached numpy-2.2.1-cp311-cp311-win_amd64.whl (12.9 MB)\n",
      "Installing collected packages: pydicom, numpy, opencv-python\n",
      "Successfully installed numpy-2.2.1 opencv-python-4.10.0.84 pydicom-3.0.1\n",
      "Note: you may need to restart the kernel to use updated packages.\n"
     ]
    }
   ],
   "source": [
    "pip install pydicom opencv-python"
   ]
  },
  {
   "cell_type": "code",
   "execution_count": 1,
   "metadata": {},
   "outputs": [],
   "source": [
    "import pydicom\n",
    "import cv2\n",
    "import os"
   ]
  },
  {
   "cell_type": "code",
   "execution_count": 4,
   "metadata": {},
   "outputs": [],
   "source": [
    "def convert_dicom_to_png(dicom_folder, output_folder):\n",
    "    if not os.path.exists(output_folder):\n",
    "        os.makedirs(output_folder)\n",
    "\n",
    "    for filename in os.listdir(dicom_folder):\n",
    "        if filename.endswith(\".dicom\"):\n",
    "            dicom_path = os.path.join(dicom_folder, filename)\n",
    "            ds = pydicom.dcmread(dicom_path)\n",
    "            pixel_array = ds.pixel_array\n",
    "            output_path = os.path.join(output_folder, filename.replace('.dicom', '.png'))\n",
    "            cv2.imwrite(output_path, pixel_array)"
   ]
  },
  {
   "cell_type": "code",
   "execution_count": 5,
   "metadata": {},
   "outputs": [],
   "source": [
    "# Rutas a las carpetas de train y test\n",
    "dicom_train_folder = 'D:\\\\Proyects_MG\\\\LUNG_THESIS\\\\Tesis-LungCancerSEGM\\\\vinbigdata_chest_xray\\\\train'\n",
    "output_train_folder = 'D:\\\\Proyects_MG\\\\LUNG_THESIS\\\\Tesis-LungCancerSEGM\\\\vinbigdata_chest_xray\\\\train_png'\n",
    "\n",
    "dicom_test_folder = 'D:\\\\Proyects_MG\\\\LUNG_THESIS\\\\Tesis-LungCancerSEGM\\\\vinbigdata_chest_xray\\\\test'\n",
    "output_test_folder = 'D:\\\\Proyects_MG\\\\LUNG_THESIS\\\\Tesis-LungCancerSEGM\\\\vinbigdata_chest_xray\\\\test_png'"
   ]
  },
  {
   "cell_type": "code",
   "execution_count": 6,
   "metadata": {},
   "outputs": [
    {
     "ename": "RuntimeError",
     "evalue": "Unable to decompress 'JPEG 2000 Image Compression (Lossless Only)' pixel data because all plugins are missing dependencies:\n\tgdcm - requires gdcm>=3.0.10\n\tpylibjpeg - requires pylibjpeg>=2.0 and pylibjpeg-openjpeg>=2.0\n\tpillow - requires numpy and pillow>=10.0",
     "output_type": "error",
     "traceback": [
      "\u001b[1;31m---------------------------------------------------------------------------\u001b[0m",
      "\u001b[1;31mRuntimeError\u001b[0m                              Traceback (most recent call last)",
      "Cell \u001b[1;32mIn[6], line 2\u001b[0m\n\u001b[0;32m      1\u001b[0m \u001b[38;5;66;03m# Convertir imágenes de train\u001b[39;00m\n\u001b[1;32m----> 2\u001b[0m \u001b[43mconvert_dicom_to_png\u001b[49m\u001b[43m(\u001b[49m\u001b[43mdicom_train_folder\u001b[49m\u001b[43m,\u001b[49m\u001b[43m \u001b[49m\u001b[43moutput_train_folder\u001b[49m\u001b[43m)\u001b[49m\n\u001b[0;32m      4\u001b[0m \u001b[38;5;66;03m# Convertir imágenes de test\u001b[39;00m\n\u001b[0;32m      5\u001b[0m convert_dicom_to_png(dicom_test_folder, output_test_folder)\n",
      "Cell \u001b[1;32mIn[4], line 9\u001b[0m, in \u001b[0;36mconvert_dicom_to_png\u001b[1;34m(dicom_folder, output_folder)\u001b[0m\n\u001b[0;32m      7\u001b[0m dicom_path \u001b[38;5;241m=\u001b[39m os\u001b[38;5;241m.\u001b[39mpath\u001b[38;5;241m.\u001b[39mjoin(dicom_folder, filename)\n\u001b[0;32m      8\u001b[0m ds \u001b[38;5;241m=\u001b[39m pydicom\u001b[38;5;241m.\u001b[39mdcmread(dicom_path)\n\u001b[1;32m----> 9\u001b[0m pixel_array \u001b[38;5;241m=\u001b[39m \u001b[43mds\u001b[49m\u001b[38;5;241;43m.\u001b[39;49m\u001b[43mpixel_array\u001b[49m\n\u001b[0;32m     10\u001b[0m output_path \u001b[38;5;241m=\u001b[39m os\u001b[38;5;241m.\u001b[39mpath\u001b[38;5;241m.\u001b[39mjoin(output_folder, filename\u001b[38;5;241m.\u001b[39mreplace(\u001b[38;5;124m'\u001b[39m\u001b[38;5;124m.dicom\u001b[39m\u001b[38;5;124m'\u001b[39m, \u001b[38;5;124m'\u001b[39m\u001b[38;5;124m.png\u001b[39m\u001b[38;5;124m'\u001b[39m))\n\u001b[0;32m     11\u001b[0m cv2\u001b[38;5;241m.\u001b[39mimwrite(output_path, pixel_array)\n",
      "File \u001b[1;32md:\\Proyects_MG\\LUNG_THESIS\\Tesis-LungCancerSEGM\\lungcancerthesis\\Lib\\site-packages\\pydicom\\dataset.py:2193\u001b[0m, in \u001b[0;36mDataset.pixel_array\u001b[1;34m(self)\u001b[0m\n\u001b[0;32m   2133\u001b[0m \u001b[38;5;129m@property\u001b[39m\n\u001b[0;32m   2134\u001b[0m \u001b[38;5;28;01mdef\u001b[39;00m \u001b[38;5;21mpixel_array\u001b[39m(\u001b[38;5;28mself\u001b[39m) \u001b[38;5;241m-\u001b[39m\u001b[38;5;241m>\u001b[39m \u001b[38;5;124m\"\u001b[39m\u001b[38;5;124mnumpy.ndarray\u001b[39m\u001b[38;5;124m\"\u001b[39m:\n\u001b[0;32m   2135\u001b[0m \u001b[38;5;250m    \u001b[39m\u001b[38;5;124;03m\"\"\"Return the pixel data as a :class:`numpy.ndarray`.\u001b[39;00m\n\u001b[0;32m   2136\u001b[0m \n\u001b[0;32m   2137\u001b[0m \u001b[38;5;124;03m    .. warning::\u001b[39;00m\n\u001b[1;32m   (...)\u001b[0m\n\u001b[0;32m   2191\u001b[0m \u001b[38;5;124;03m        that iterates through the image frames.\u001b[39;00m\n\u001b[0;32m   2192\u001b[0m \u001b[38;5;124;03m    \"\"\"\u001b[39;00m\n\u001b[1;32m-> 2193\u001b[0m     \u001b[38;5;28;43mself\u001b[39;49m\u001b[38;5;241;43m.\u001b[39;49m\u001b[43mconvert_pixel_data\u001b[49m\u001b[43m(\u001b[49m\u001b[43m)\u001b[49m\n\u001b[0;32m   2194\u001b[0m     \u001b[38;5;28;01mreturn\u001b[39;00m cast(\u001b[38;5;124m\"\u001b[39m\u001b[38;5;124mnumpy.ndarray\u001b[39m\u001b[38;5;124m\"\u001b[39m, \u001b[38;5;28mself\u001b[39m\u001b[38;5;241m.\u001b[39m_pixel_array)\n",
      "File \u001b[1;32md:\\Proyects_MG\\LUNG_THESIS\\Tesis-LungCancerSEGM\\lungcancerthesis\\Lib\\site-packages\\pydicom\\dataset.py:1726\u001b[0m, in \u001b[0;36mDataset.convert_pixel_data\u001b[1;34m(self, handler_name)\u001b[0m\n\u001b[0;32m   1723\u001b[0m \u001b[38;5;28;01mif\u001b[39;00m \u001b[38;5;129;01mnot\u001b[39;00m opts[\u001b[38;5;124m\"\u001b[39m\u001b[38;5;124muse_pdh\u001b[39m\u001b[38;5;124m\"\u001b[39m]:\n\u001b[0;32m   1724\u001b[0m     \u001b[38;5;66;03m# Use 'pydicom.pixels' backend\u001b[39;00m\n\u001b[0;32m   1725\u001b[0m     opts[\u001b[38;5;124m\"\u001b[39m\u001b[38;5;124mdecoding_plugin\u001b[39m\u001b[38;5;124m\"\u001b[39m] \u001b[38;5;241m=\u001b[39m name\n\u001b[1;32m-> 1726\u001b[0m     \u001b[38;5;28mself\u001b[39m\u001b[38;5;241m.\u001b[39m_pixel_array \u001b[38;5;241m=\u001b[39m \u001b[43mpixel_array\u001b[49m\u001b[43m(\u001b[49m\u001b[38;5;28;43mself\u001b[39;49m\u001b[43m,\u001b[49m\u001b[43m \u001b[49m\u001b[38;5;241;43m*\u001b[39;49m\u001b[38;5;241;43m*\u001b[39;49m\u001b[43mopts\u001b[49m\u001b[43m)\u001b[49m\n\u001b[0;32m   1727\u001b[0m     \u001b[38;5;28mself\u001b[39m\u001b[38;5;241m.\u001b[39m_pixel_id \u001b[38;5;241m=\u001b[39m get_image_pixel_ids(\u001b[38;5;28mself\u001b[39m)\n\u001b[0;32m   1728\u001b[0m \u001b[38;5;28;01melse\u001b[39;00m:\n\u001b[0;32m   1729\u001b[0m     \u001b[38;5;66;03m# Use 'pydicom.pixel_data_handlers' backend\u001b[39;00m\n",
      "File \u001b[1;32md:\\Proyects_MG\\LUNG_THESIS\\Tesis-LungCancerSEGM\\lungcancerthesis\\Lib\\site-packages\\pydicom\\pixels\\utils.py:1430\u001b[0m, in \u001b[0;36mpixel_array\u001b[1;34m(src, ds_out, specific_tags, index, raw, decoding_plugin, **kwargs)\u001b[0m\n\u001b[0;32m   1424\u001b[0m         \u001b[38;5;28;01mraise\u001b[39;00m \u001b[38;5;167;01mNotImplementedError\u001b[39;00m(\n\u001b[0;32m   1425\u001b[0m             \u001b[38;5;124m\"\u001b[39m\u001b[38;5;124mUnable to decode the pixel data as a (0002,0010) \u001b[39m\u001b[38;5;124m'\u001b[39m\u001b[38;5;124mTransfer Syntax \u001b[39m\u001b[38;5;124m\"\u001b[39m\n\u001b[0;32m   1426\u001b[0m             \u001b[38;5;124mf\u001b[39m\u001b[38;5;124m\"\u001b[39m\u001b[38;5;124mUID\u001b[39m\u001b[38;5;124m'\u001b[39m\u001b[38;5;124m value of \u001b[39m\u001b[38;5;124m'\u001b[39m\u001b[38;5;132;01m{\u001b[39;00mtsyntax\u001b[38;5;241m.\u001b[39mname\u001b[38;5;132;01m}\u001b[39;00m\u001b[38;5;124m'\u001b[39m\u001b[38;5;124m is not supported\u001b[39m\u001b[38;5;124m\"\u001b[39m\n\u001b[0;32m   1427\u001b[0m         )\n\u001b[0;32m   1429\u001b[0m     opts \u001b[38;5;241m=\u001b[39m as_pixel_options(ds, \u001b[38;5;241m*\u001b[39m\u001b[38;5;241m*\u001b[39mkwargs)\n\u001b[1;32m-> 1430\u001b[0m     \u001b[38;5;28;01mreturn\u001b[39;00m \u001b[43mdecoder\u001b[49m\u001b[38;5;241;43m.\u001b[39;49m\u001b[43mas_array\u001b[49m\u001b[43m(\u001b[49m\n\u001b[0;32m   1431\u001b[0m \u001b[43m        \u001b[49m\u001b[43mds\u001b[49m\u001b[43m,\u001b[49m\n\u001b[0;32m   1432\u001b[0m \u001b[43m        \u001b[49m\u001b[43mindex\u001b[49m\u001b[38;5;241;43m=\u001b[39;49m\u001b[43mindex\u001b[49m\u001b[43m,\u001b[49m\n\u001b[0;32m   1433\u001b[0m \u001b[43m        \u001b[49m\u001b[43mvalidate\u001b[49m\u001b[38;5;241;43m=\u001b[39;49m\u001b[38;5;28;43;01mTrue\u001b[39;49;00m\u001b[43m,\u001b[49m\n\u001b[0;32m   1434\u001b[0m \u001b[43m        \u001b[49m\u001b[43mraw\u001b[49m\u001b[38;5;241;43m=\u001b[39;49m\u001b[43mraw\u001b[49m\u001b[43m,\u001b[49m\n\u001b[0;32m   1435\u001b[0m \u001b[43m        \u001b[49m\u001b[43mdecoding_plugin\u001b[49m\u001b[38;5;241;43m=\u001b[39;49m\u001b[43mdecoding_plugin\u001b[49m\u001b[43m,\u001b[49m\n\u001b[0;32m   1436\u001b[0m \u001b[43m        \u001b[49m\u001b[38;5;241;43m*\u001b[39;49m\u001b[38;5;241;43m*\u001b[39;49m\u001b[43mopts\u001b[49m\u001b[43m,\u001b[49m\n\u001b[0;32m   1437\u001b[0m \u001b[43m    \u001b[49m\u001b[43m)\u001b[49m[\u001b[38;5;241m0\u001b[39m]\n\u001b[0;32m   1439\u001b[0m f: BinaryIO\n\u001b[0;32m   1440\u001b[0m \u001b[38;5;28;01mif\u001b[39;00m \u001b[38;5;129;01mnot\u001b[39;00m \u001b[38;5;28mhasattr\u001b[39m(src, \u001b[38;5;124m\"\u001b[39m\u001b[38;5;124mread\u001b[39m\u001b[38;5;124m\"\u001b[39m):\n",
      "File \u001b[1;32md:\\Proyects_MG\\LUNG_THESIS\\Tesis-LungCancerSEGM\\lungcancerthesis\\Lib\\site-packages\\pydicom\\pixels\\decoders\\base.py:982\u001b[0m, in \u001b[0;36mDecoder.as_array\u001b[1;34m(self, src, index, validate, raw, decoding_plugin, **kwargs)\u001b[0m\n\u001b[0;32m    977\u001b[0m runner\u001b[38;5;241m.\u001b[39mset_source(src)\n\u001b[0;32m    978\u001b[0m runner\u001b[38;5;241m.\u001b[39mset_options(\u001b[38;5;241m*\u001b[39m\u001b[38;5;241m*\u001b[39mkwargs)\n\u001b[0;32m    979\u001b[0m runner\u001b[38;5;241m.\u001b[39mset_decoders(\n\u001b[0;32m    980\u001b[0m     cast(\n\u001b[0;32m    981\u001b[0m         \u001b[38;5;28mdict\u001b[39m[\u001b[38;5;28mstr\u001b[39m, \u001b[38;5;124m\"\u001b[39m\u001b[38;5;124mDecodeFunction\u001b[39m\u001b[38;5;124m\"\u001b[39m],\n\u001b[1;32m--> 982\u001b[0m         \u001b[38;5;28;43mself\u001b[39;49m\u001b[38;5;241;43m.\u001b[39;49m\u001b[43m_validate_plugins\u001b[49m\u001b[43m(\u001b[49m\u001b[43mdecoding_plugin\u001b[49m\u001b[43m)\u001b[49m,\n\u001b[0;32m    983\u001b[0m     ),\n\u001b[0;32m    984\u001b[0m )\n\u001b[0;32m    986\u001b[0m \u001b[38;5;28;01mif\u001b[39;00m config\u001b[38;5;241m.\u001b[39mdebugging:\n\u001b[0;32m    987\u001b[0m     LOGGER\u001b[38;5;241m.\u001b[39mdebug(runner)\n",
      "File \u001b[1;32md:\\Proyects_MG\\LUNG_THESIS\\Tesis-LungCancerSEGM\\lungcancerthesis\\Lib\\site-packages\\pydicom\\pixels\\common.py:257\u001b[0m, in \u001b[0;36mCoderBase._validate_plugins\u001b[1;34m(self, plugin)\u001b[0m\n\u001b[0;32m    255\u001b[0m missing \u001b[38;5;241m=\u001b[39m \u001b[38;5;124m\"\u001b[39m\u001b[38;5;130;01m\\n\u001b[39;00m\u001b[38;5;124m\"\u001b[39m\u001b[38;5;241m.\u001b[39mjoin([\u001b[38;5;124mf\u001b[39m\u001b[38;5;124m\"\u001b[39m\u001b[38;5;130;01m\\t\u001b[39;00m\u001b[38;5;132;01m{\u001b[39;00ms\u001b[38;5;132;01m}\u001b[39;00m\u001b[38;5;124m\"\u001b[39m \u001b[38;5;28;01mfor\u001b[39;00m s \u001b[38;5;129;01min\u001b[39;00m \u001b[38;5;28mself\u001b[39m\u001b[38;5;241m.\u001b[39mmissing_dependencies])\n\u001b[0;32m    256\u001b[0m \u001b[38;5;28;01mif\u001b[39;00m \u001b[38;5;28mself\u001b[39m\u001b[38;5;241m.\u001b[39m_decoder:\n\u001b[1;32m--> 257\u001b[0m     \u001b[38;5;28;01mraise\u001b[39;00m \u001b[38;5;167;01mRuntimeError\u001b[39;00m(\n\u001b[0;32m    258\u001b[0m         \u001b[38;5;124mf\u001b[39m\u001b[38;5;124m\"\u001b[39m\u001b[38;5;124mUnable to decompress \u001b[39m\u001b[38;5;124m'\u001b[39m\u001b[38;5;132;01m{\u001b[39;00m\u001b[38;5;28mself\u001b[39m\u001b[38;5;241m.\u001b[39mUID\u001b[38;5;241m.\u001b[39mname\u001b[38;5;132;01m}\u001b[39;00m\u001b[38;5;124m'\u001b[39m\u001b[38;5;124m pixel data because all \u001b[39m\u001b[38;5;124m\"\u001b[39m\n\u001b[0;32m    259\u001b[0m         \u001b[38;5;124mf\u001b[39m\u001b[38;5;124m\"\u001b[39m\u001b[38;5;124mplugins are missing dependencies:\u001b[39m\u001b[38;5;130;01m\\n\u001b[39;00m\u001b[38;5;132;01m{\u001b[39;00mmissing\u001b[38;5;132;01m}\u001b[39;00m\u001b[38;5;124m\"\u001b[39m\n\u001b[0;32m    260\u001b[0m     )\n\u001b[0;32m    262\u001b[0m \u001b[38;5;28;01mraise\u001b[39;00m \u001b[38;5;167;01mRuntimeError\u001b[39;00m(\n\u001b[0;32m    263\u001b[0m     \u001b[38;5;124mf\u001b[39m\u001b[38;5;124m\"\u001b[39m\u001b[38;5;124mUnable to compress the pixel data using \u001b[39m\u001b[38;5;124m'\u001b[39m\u001b[38;5;132;01m{\u001b[39;00m\u001b[38;5;28mself\u001b[39m\u001b[38;5;241m.\u001b[39mUID\u001b[38;5;241m.\u001b[39mname\u001b[38;5;132;01m}\u001b[39;00m\u001b[38;5;124m'\u001b[39m\u001b[38;5;124m because all \u001b[39m\u001b[38;5;124m\"\u001b[39m\n\u001b[0;32m    264\u001b[0m     \u001b[38;5;124mf\u001b[39m\u001b[38;5;124m\"\u001b[39m\u001b[38;5;124mplugins are missing dependencies:\u001b[39m\u001b[38;5;130;01m\\n\u001b[39;00m\u001b[38;5;132;01m{\u001b[39;00mmissing\u001b[38;5;132;01m}\u001b[39;00m\u001b[38;5;124m\"\u001b[39m\n\u001b[0;32m    265\u001b[0m )\n",
      "\u001b[1;31mRuntimeError\u001b[0m: Unable to decompress 'JPEG 2000 Image Compression (Lossless Only)' pixel data because all plugins are missing dependencies:\n\tgdcm - requires gdcm>=3.0.10\n\tpylibjpeg - requires pylibjpeg>=2.0 and pylibjpeg-openjpeg>=2.0\n\tpillow - requires numpy and pillow>=10.0"
     ]
    }
   ],
   "source": [
    "# Convertir imágenes de train\n",
    "convert_dicom_to_png(dicom_train_folder, output_train_folder)\n",
    "\n",
    "# Convertir imágenes de test\n",
    "convert_dicom_to_png(dicom_test_folder, output_test_folder)"
   ]
  }
 ],
 "metadata": {
  "kernelspec": {
   "display_name": "lungcancerthesis",
   "language": "python",
   "name": "python3"
  },
  "language_info": {
   "codemirror_mode": {
    "name": "ipython",
    "version": 3
   },
   "file_extension": ".py",
   "mimetype": "text/x-python",
   "name": "python",
   "nbconvert_exporter": "python",
   "pygments_lexer": "ipython3",
   "version": "3.11.4"
  }
 },
 "nbformat": 4,
 "nbformat_minor": 2
}
